{
  "nbformat": 4,
  "nbformat_minor": 0,
  "metadata": {
    "colab": {
      "provenance": [],
      "include_colab_link": true
    },
    "kernelspec": {
      "name": "python3",
      "display_name": "Python 3"
    },
    "language_info": {
      "name": "python"
    }
  },
  "cells": [
    {
      "cell_type": "markdown",
      "metadata": {
        "id": "view-in-github",
        "colab_type": "text"
      },
      "source": [
        "<a href=\"https://colab.research.google.com/github/abhi-0087/Social-Media-Data-Analysis-for-Ola-Cabs/blob/main/Social_Media_Data_Analysis_for_Ola_Cabs.ipynb\" target=\"_parent\"><img src=\"https://colab.research.google.com/assets/colab-badge.svg\" alt=\"Open In Colab\"/></a>"
      ]
    },
    {
      "cell_type": "code",
      "execution_count": null,
      "metadata": {
        "id": "Rgoh3L0i1Icy"
      },
      "outputs": [],
      "source": [
        "# Import necessary libraries\n",
        "import pandas as pd\n",
        "import numpy as np\n",
        "from textblob import TextBlob\n",
        "import matplotlib.pyplot as plt\n",
        "import seaborn as sns"
      ]
    },
    {
      "cell_type": "code",
      "source": [
        "# Load the dataset\n",
        "data = pd.read_json('/content/Ola (1).json')"
      ],
      "metadata": {
        "id": "Lt-21_-G2IIh"
      },
      "execution_count": null,
      "outputs": []
    },
    {
      "cell_type": "code",
      "source": [
        "# 1. Data Cleaning and Preparation\n",
        "# Handle missing values\n",
        "data.fillna({'content': '', 'datetime': '', 'likes': 0, 'shares': 0, 'views': 0}, inplace=True)"
      ],
      "metadata": {
        "id": "6_ARbicI3ZWM"
      },
      "execution_count": null,
      "outputs": []
    },
    {
      "cell_type": "code",
      "source": [
        "# Remove duplicates\n",
        "data.drop_duplicates(subset=['tweet_id'], inplace=True)\n"
      ],
      "metadata": {
        "id": "d7Mjd-3v3Z6x"
      },
      "execution_count": null,
      "outputs": []
    },
    {
      "cell_type": "code",
      "source": [
        "# 2. Descriptive Analysis\n",
        "# a. Calculate basic statistics\n",
        "engagement_metrics = ['likes', 'shares', 'views']\n",
        "\n",
        "# Calculate mean\n",
        "mean_stats = data[engagement_metrics].mean()\n",
        "\n",
        "# Calculate median\n",
        "median_stats = data[engagement_metrics].median()\n",
        "\n",
        "# Calculate mode\n",
        "mode_stats = data[engagement_metrics].mode()\n",
        "\n",
        "# Display basic statistics\n",
        "print(\"Mean Stats:\\n\", mean_stats)\n",
        "print(\"\\nMedian Stats:\\n\", median_stats)\n",
        "print(\"\\nMode Stats:\\n\", mode_stats)"
      ],
      "metadata": {
        "colab": {
          "base_uri": "https://localhost:8080/"
        },
        "id": "618Rcxf-4FzX",
        "outputId": "258d0604-2e97-4109-9190-2e25bc33a430"
      },
      "execution_count": null,
      "outputs": [
        {
          "output_type": "stream",
          "name": "stdout",
          "text": [
            "Mean Stats:\n",
            " likes       164.199921\n",
            "shares       38.520899\n",
            "views     14359.786672\n",
            "dtype: float64\n",
            "\n",
            "Median Stats:\n",
            " likes      0.0\n",
            "shares     0.0\n",
            "views     27.0\n",
            "dtype: float64\n",
            "\n",
            "Mode Stats:\n",
            "    likes  shares  views\n",
            "0      0       0    0.0\n"
          ]
        }
      ]
    },
    {
      "cell_type": "code",
      "source": [
        "# b. Identify top 5 posts by engagement\n",
        "data['engagement'] = data['likes'] + data['shares'] + data['comments'].apply(len)\n",
        "top_5_posts = data.nlargest(5, 'engagement')[['content', 'engagement']]\n",
        "\n",
        "print(\"Top 5 Posts by Engagement:\\n\", top_5_posts)"
      ],
      "metadata": {
        "colab": {
          "base_uri": "https://localhost:8080/"
        },
        "id": "3rNqCBSj61Wd",
        "outputId": "122c4230-22d8-4c60-8c55-3cd0a06dd0bb"
      },
      "execution_count": null,
      "outputs": [
        {
          "output_type": "stream",
          "name": "stdout",
          "text": [
            "Top 5 Posts by Engagement:\n",
            "                                                content  engagement\n",
            "30   HELP WANTED Tons of PAID work opportunities fo...       23495\n",
            "592                             lay off 17.50 5 access       20754\n",
            "382  Who said the job market is bad? Just complain ...       20548\n",
            "723  I am getting laid off 12/31 but I am going to ...       18682\n",
            "202  While the OLA electric CEO rants on someone el...       16767\n"
          ]
        }
      ]
    },
    {
      "cell_type": "code",
      "source": [
        "# c. Count posts with media attachments\n",
        "media_posts_count = data['media'].apply(lambda x: len(x) if isinstance(x, list) else 0).sum()\n",
        "\n",
        "print(f\"Number of posts with media attachments: {media_posts_count}\")"
      ],
      "metadata": {
        "colab": {
          "base_uri": "https://localhost:8080/"
        },
        "id": "e0jGKLD37B01",
        "outputId": "2adf76f1-77c7-4756-9b8b-ffcf761ad867"
      },
      "execution_count": null,
      "outputs": [
        {
          "output_type": "stream",
          "name": "stdout",
          "text": [
            "Number of posts with media attachments: 1038\n"
          ]
        }
      ]
    },
    {
      "cell_type": "code",
      "source": [
        "# 3. Sentiment Analysis\n",
        "def analyze_sentiment(text):\n",
        "    analysis = TextBlob(text).sentiment\n",
        "    if analysis.polarity > 0:\n",
        "        return 'Positive'\n",
        "    elif analysis.polarity == 0:\n",
        "        return 'Neutral'\n",
        "    else:\n",
        "        return 'Negative'\n",
        "\n",
        "data['sentiment'] = data['content'].apply(analyze_sentiment)\n"
      ],
      "metadata": {
        "id": "Elt0C3vQ71Lm"
      },
      "execution_count": null,
      "outputs": []
    },
    {
      "cell_type": "code",
      "source": [
        "# Calculate sentiment percentages\n",
        "sentiment_distribution = data['sentiment'].value_counts(normalize=True) * 100\n",
        "\n",
        "print(\"Sentiment Distribution:\\n\", sentiment_distribution)\n",
        "\n"
      ],
      "metadata": {
        "colab": {
          "base_uri": "https://localhost:8080/"
        },
        "id": "t9CBaA2-FONC",
        "outputId": "122fd077-797a-4c82-e69e-a62023a15af9"
      },
      "execution_count": null,
      "outputs": [
        {
          "output_type": "stream",
          "name": "stdout",
          "text": [
            "Sentiment Distribution:\n",
            " sentiment\n",
            "Positive    39.747634\n",
            "Neutral     36.119874\n",
            "Negative    24.132492\n",
            "Name: proportion, dtype: float64\n"
          ]
        }
      ]
    },
    {
      "cell_type": "code",
      "source": [
        "# Visualize sentiment distribution\n",
        "plt.figure(figsize=(5, 5))\n",
        "sentiment_distribution.plot.pie(autopct='%1.1f%%', colors=['green', 'blue', 'red'])\n",
        "plt.title('Sentiment Distribution')\n",
        "plt.show()"
      ],
      "metadata": {
        "colab": {
          "base_uri": "https://localhost:8080/",
          "height": 444
        },
        "id": "HIHAVHODF8Ry",
        "outputId": "ccea9414-5d0b-4123-eebf-17f377b9c370"
      },
      "execution_count": null,
      "outputs": [
        {
          "output_type": "display_data",
          "data": {
            "text/plain": [
              "<Figure size 500x500 with 1 Axes>"
            ],
            "image/png": "[encoded data removed]"
          },
          "metadata": {}
        }
      ]
    },
    {
      "cell_type": "code",
      "source": [
        "# 4. Customer Complaints\n",
        "# a. Extract complaints\n",
        "complaints = data[data['content'].str.contains('driver|cancel|customer service', case=False)]\n"
      ],
      "metadata": {
        "id": "S6QjEmByGU86"
      },
      "execution_count": null,
      "outputs": []
    },
    {
      "cell_type": "code",
      "source": [
        "# b. Categorize complaints\n",
        "def categorize_complaint(text):\n",
        "    if 'driver' in text.lower():\n",
        "        return 'Driver Issue'\n",
        "    elif 'cancel' in text.lower():\n",
        "        return 'Cancellations'\n",
        "    elif 'customer service' in text.lower():\n",
        "        return 'Customer Service'\n",
        "    else:\n",
        "        return 'Other'\n",
        "\n",
        "complaints['complaint_type'] = complaints['content'].apply(categorize_complaint)"
      ],
      "metadata": {
        "colab": {
          "base_uri": "https://localhost:8080/"
        },
        "id": "Vj-Z37rnKvd5",
        "outputId": "d34d1fc7-823a-44e8-de80-a5ee809b9f85"
      },
      "execution_count": null,
      "outputs": [
        {
          "output_type": "stream",
          "name": "stderr",
          "text": [
            "<ipython-input-49-8fe4e21a65b3>:12: SettingWithCopyWarning: \n",
            "A value is trying to be set on a copy of a slice from a DataFrame.\n",
            "Try using .loc[row_indexer,col_indexer] = value instead\n",
            "\n",
            "See the caveats in the documentation: https://pandas.pydata.org/pandas-docs/stable/user_guide/indexing.html#returning-a-view-versus-a-copy\n",
            "  complaints['complaint_type'] = complaints['content'].apply(categorize_complaint)\n"
          ]
        }
      ]
    },
    {
      "cell_type": "code",
      "source": [
        "# c. Visualize complaints\n",
        "complaint_distribution = complaints['complaint_type'].value_counts()\n",
        "\n",
        "plt.figure(figsize=(8, 6))\n",
        "sns.barplot(x=complaint_distribution.index, y=complaint_distribution.values, palette='viridis')\n",
        "plt.title('Complaint Categories')\n",
        "plt.xlabel('Complaint Type')\n",
        "plt.ylabel('Frequency')\n",
        "plt.xticks(rotation=45)\n",
        "plt.show()"
      ],
      "metadata": {
        "colab": {
          "base_uri": "https://localhost:8080/",
          "height": 734
        },
        "id": "eg0oN2SBH0yz",
        "outputId": "9a36e57d-549c-46bc-86d2-d6eb6ba00f68"
      },
      "execution_count": null,
      "outputs": [
        {
          "output_type": "stream",
          "name": "stderr",
          "text": [
            "<ipython-input-39-553c380871b7>:5: FutureWarning: \n",
            "\n",
            "Passing `palette` without assigning `hue` is deprecated and will be removed in v0.14.0. Assign the `x` variable to `hue` and set `legend=False` for the same effect.\n",
            "\n",
            "  sns.barplot(x=complaint_distribution.index, y=complaint_distribution.values, palette='viridis')\n"
          ]
        },
        {
          "output_type": "display_data",
          "data": {
            "text/plain": [
              "<Figure size 800x600 with 1 Axes>"
            ],
            "image/png": "[encoded data removed]"
          },
          "metadata": {}
        }
      ]
    },
    {
      "cell_type": "code",
      "source": [
        "# 5. Engagement Analysis\n",
        "# a. Correlation analysis\n",
        "correlation = data[['followers', 'likes', 'shares']].corr()\n",
        "\n",
        "print(\"Correlation Analysis:\\n\", correlation)"
      ],
      "metadata": {
        "colab": {
          "base_uri": "https://localhost:8080/"
        },
        "id": "YfjwGOg4HYvb",
        "outputId": "6684a18b-7fc1-4bd1-ec4b-3691ab7a985a"
      },
      "execution_count": null,
      "outputs": [
        {
          "output_type": "stream",
          "name": "stdout",
          "text": [
            "Correlation Analysis:\n",
            "            followers     likes    shares\n",
            "followers   1.000000  0.061084  0.010560\n",
            "likes       0.061084  1.000000  0.339056\n",
            "shares      0.010560  0.339056  1.000000\n"
          ]
        }
      ]
    },
    {
      "cell_type": "code",
      "source": [
        "# b. Analyze engagement by source\n",
        "engagement_by_source = data.groupby('source')['engagement'].mean()\n",
        "\n",
        "print(\"Engagement by Source:\\n\", engagement_by_source)"
      ],
      "metadata": {
        "colab": {
          "base_uri": "https://localhost:8080/"
        },
        "id": "tAUDKhBaITOp",
        "outputId": "4127bdf7-670e-4ce0-90f3-4d7d35a33cbf"
      },
      "execution_count": null,
      "outputs": [
        {
          "output_type": "stream",
          "name": "stdout",
          "text": [
            "Engagement by Source:\n",
            " source\n",
            "TWITTER    207.286278\n",
            "Name: engagement, dtype: float64\n"
          ]
        }
      ]
    }
  ]
}